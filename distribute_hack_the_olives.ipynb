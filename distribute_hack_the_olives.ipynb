{
  "nbformat": 4,
  "nbformat_minor": 0,
  "metadata": {
    "kernelspec": {
      "display_name": "ml1-arm64",
      "language": "python",
      "name": "ml1-arm64"
    },
    "language_info": {
      "codemirror_mode": {
        "name": "ipython",
        "version": 3
      },
      "file_extension": ".py",
      "mimetype": "text/x-python",
      "name": "python",
      "nbconvert_exporter": "python",
      "pygments_lexer": "ipython3",
      "version": "3.9.1"
    },
    "colab": {
      "name": "distribute_hack_the_olives.ipynb",
      "provenance": [],
      "toc_visible": true,
      "include_colab_link": true
    }
  },
  "cells": [
    {
      "cell_type": "markdown",
      "metadata": {
        "id": "view-in-github",
        "colab_type": "text"
      },
      "source": [
        "<a href=\"https://colab.research.google.com/github/abarpan3/HackDay/blob/main/distribute_hack_the_olives.ipynb\" target=\"_parent\"><img src=\"https://colab.research.google.com/assets/colab-badge.svg\" alt=\"Open In Colab\"/></a>"
      ]
    },
    {
      "cell_type": "code",
      "metadata": {
        "id": "14F2iynZxlNA",
        "outputId": "8dd97968-ae94-47e5-e04b-87a7875ba09e",
        "colab": {
          "base_uri": "https://localhost:8080/"
        }
      },
      "source": [
        "!git init; git pull https://github.com/abarpan3/HackDay.git"
      ],
      "execution_count": 1,
      "outputs": [
        {
          "output_type": "stream",
          "text": [
            "Initialized empty Git repository in /content/.git/\n",
            "remote: Enumerating objects: 21, done.\u001b[K\n",
            "remote: Counting objects: 100% (21/21), done.\u001b[K\n",
            "remote: Compressing objects: 100% (16/16), done.\u001b[K\n",
            "remote: Total 21 (delta 4), reused 17 (delta 2), pack-reused 0\u001b[K\n",
            "Unpacking objects: 100% (21/21), done.\n",
            "From https://github.com/abarpan3/HackDay\n",
            " * branch            HEAD       -> FETCH_HEAD\n"
          ],
          "name": "stdout"
        }
      ]
    },
    {
      "cell_type": "markdown",
      "metadata": {
        "id": "kgha6afzxh95"
      },
      "source": [
        "# SVM and Ensembles"
      ]
    },
    {
      "cell_type": "code",
      "metadata": {
        "jupyter": {
          "outputs_hidden": false
        },
        "id": "-99OkVlbxh96"
      },
      "source": [
        "%matplotlib inline\n",
        "import numpy as np\n",
        "import matplotlib.pyplot as plt\n",
        "import pandas as pd"
      ],
      "execution_count": null,
      "outputs": []
    },
    {
      "cell_type": "code",
      "metadata": {
        "jupyter": {
          "outputs_hidden": false
        },
        "id": "p5X2v2fOxh97"
      },
      "source": [
        "from IPython.core.display import Image"
      ],
      "execution_count": null,
      "outputs": []
    },
    {
      "cell_type": "markdown",
      "metadata": {
        "id": "Bm9roYk5xh97"
      },
      "source": [
        "## Italian Olives"
      ]
    },
    {
      "cell_type": "markdown",
      "metadata": {
        "id": "3D94PorIxh98"
      },
      "source": [
        "![](https://github.com/abarpan3/HackDay/blob/main/images/Italy.png?raw=1)"
      ]
    },
    {
      "cell_type": "markdown",
      "metadata": {
        "id": "SFRy9Iq8xh99"
      },
      "source": [
        "I found this data set in the RGGobi book (http://www.ggobi.org/book/), from which the above diagram is taken. It has \"the percentage composition of fatty acids\n",
        "found in the lipid fraction of Italian olive oils', with oils from 3 regions of Italy: the North, the South, and Sardinia. The regions themselves are subdivided into areas as shown in the map above. The source for this data is:\n",
        "\n",
        ">Forina, M., Armanino, C., Lanteri, S. & Tiscornia, E. (1983), Classification of Olive Oils from their Fatty Acid Composition, in Martens, H. and\n",
        "Russwurm Jr., H., eds, Food Research and Data Analysis, Applied Science\n",
        "Publishers, London, pp. 189–214."
      ]
    },
    {
      "cell_type": "code",
      "metadata": {
        "jupyter": {
          "outputs_hidden": false
        },
        "id": "uNE5rdf6xh99"
      },
      "source": [
        "df=pd.read_csv(\"data/olives-cleaned.csv\")\n",
        "df.head(5)"
      ],
      "execution_count": null,
      "outputs": []
    },
    {
      "cell_type": "markdown",
      "metadata": {
        "id": "Cr-GK34Jxh99"
      },
      "source": [
        "### exploring globally"
      ]
    },
    {
      "cell_type": "code",
      "metadata": {
        "jupyter": {
          "outputs_hidden": false
        },
        "id": "YShmML8Zxh9-"
      },
      "source": [
        "pd.value_counts(df.areastring, sort=False).plot(kind=\"bar\");"
      ],
      "execution_count": null,
      "outputs": []
    },
    {
      "cell_type": "code",
      "metadata": {
        "jupyter": {
          "outputs_hidden": false
        },
        "id": "p1fT_0k1xh9-"
      },
      "source": [
        "pd.value_counts(df.regionstring, sort=False).plot(kind=\"barh\");"
      ],
      "execution_count": null,
      "outputs": []
    },
    {
      "cell_type": "code",
      "metadata": {
        "jupyter": {
          "outputs_hidden": false
        },
        "id": "SwQbCsC-xh9-"
      },
      "source": [
        "df.describe()"
      ],
      "execution_count": null,
      "outputs": []
    },
    {
      "cell_type": "markdown",
      "metadata": {
        "id": "wmgm-83Zxh9_"
      },
      "source": [
        "## Figuring the South of Italy by Area"
      ]
    },
    {
      "cell_type": "code",
      "metadata": {
        "jupyter": {
          "outputs_hidden": false
        },
        "id": "TuyPghwYxh9_"
      },
      "source": [
        "dfsouth=df[df.regionstring=='South']\n",
        "dfsouth.head()"
      ],
      "execution_count": null,
      "outputs": []
    },
    {
      "cell_type": "code",
      "metadata": {
        "jupyter": {
          "outputs_hidden": false
        },
        "id": "EaHmpmK4xh9_"
      },
      "source": [
        "dfnosouth=df[df.regionstring!='South']\n",
        "dfnosouth.head()"
      ],
      "execution_count": null,
      "outputs": []
    },
    {
      "cell_type": "markdown",
      "metadata": {
        "id": "RlnC-2r2xh9_"
      },
      "source": [
        "## SVM on training data for Regions"
      ]
    },
    {
      "cell_type": "markdown",
      "metadata": {
        "id": "gu3p63klxh9_"
      },
      "source": [
        "Diagram from Jesse Johnson's excellent Shape of Data;\n",
        "http://shapeofdata.wordpress.com/2013/05/14/linear-separation-and-support-vector-machines/\n",
        "\n",
        "\n",
        "![max margin](https://github.com/abarpan3/HackDay/blob/main/images/svm.png?raw=1) \n",
        "\n",
        "The idea is to draw a line in space between the classes. But not any line, but the line which gives the `maximum margin` rectangle between points of different classes.\n",
        "\n",
        "from http://nlp.stanford.edu/IR-book/html/htmledition/support-vector-machines-the-linearly-separable-case-1.html :\n",
        "![support vectors](https://github.com/abarpan3/HackDay/blob/main/images/img1260.png?raw=1)\n",
        "\n",
        "The points right at the boundary are called the support vectors, which is where the name comes from.\n",
        "\n",
        "But what if the separability is not so simple, and there are points intruding?\n",
        "\n",
        "![intrusion](https://github.com/abarpan3/HackDay/blob/main/images/svm21.png?raw=1)\n",
        "\n",
        "Then the idea is to minimize the distance of the \"crossed over\" points from the separating line. These crossed over points are costed using \"slack\" vectors. You dont want too many of these.\n",
        "\n",
        "You obtain the line by minimizing the [Hinge Loss](http://en.wikipedia.org/wiki/Hinge_loss)"
      ]
    },
    {
      "cell_type": "code",
      "metadata": {
        "id": "YQPACtXDxh-A"
      },
      "source": [
        "from ipywidgets import interact\n",
        "import ipywidgets as widgets"
      ],
      "execution_count": null,
      "outputs": []
    },
    {
      "cell_type": "code",
      "metadata": {
        "jupyter": {
          "outputs_hidden": false
        },
        "id": "ISjVi_dcxh-A"
      },
      "source": [
        "from sklearn.model_selection import train_test_split\n",
        "from sklearn.metrics import confusion_matrix\n",
        "#Stolen from Jake's notebooks, above: https://github.com/jakevdp/ESAC-stats-2014\n",
        "from sklearn.datasets import make_blobs\n",
        "from sklearn.svm import SVC # \"Support Vector Classifier\"\n",
        "\n",
        "def plot_svc_decision_function(clf, ax=None):\n",
        "    \"\"\"Plot the decision function for a 2D SVC\"\"\"\n",
        "    if ax is None:\n",
        "        ax = plt.gca()\n",
        "    x = np.linspace(plt.xlim()[0], plt.xlim()[1], 30)\n",
        "    y = np.linspace(plt.ylim()[0], plt.ylim()[1], 30)\n",
        "    Y, X = np.meshgrid(y, x)\n",
        "    P = np.zeros_like(X)\n",
        "    for i, xi in enumerate(x):\n",
        "        for j, yj in enumerate(y):\n",
        "            P[i, j] = clf.decision_function([[xi, yj]])\n",
        "    return ax.contour(X, Y, P, colors='k',\n",
        "                      levels=[-1, 0, 1], alpha=0.5,\n",
        "                      linestyles=['--', '-', '--'])\n",
        "\n",
        "def plot_svm(N):\n",
        "    X, y = make_blobs(n_samples=200, centers=2,\n",
        "                      random_state=0, cluster_std=0.60)\n",
        "    X = X[:N]\n",
        "    y = y[:N]\n",
        "    clf = SVC(kernel='linear')\n",
        "    clf.fit(X, y)\n",
        "    plt.scatter(X[:, 0], X[:, 1], c=y, s=50, cmap='spring')\n",
        "    plt.xlim(-1, 4)\n",
        "    plt.ylim(-1, 6)\n",
        "    plot_svc_decision_function(clf, plt.gca())\n",
        "    plt.scatter(clf.support_vectors_[:, 0], clf.support_vectors_[:, 1],\n",
        "                s=200, facecolors='none')\n",
        "    \n",
        "#interact(plot_svm, N=[10, 200]);\n",
        "interact(plot_svm, N=widgets.IntSlider(min=10, max=200, step=10, value=90));"
      ],
      "execution_count": null,
      "outputs": []
    },
    {
      "cell_type": "markdown",
      "metadata": {
        "id": "hYfkEvXVxh-A"
      },
      "source": [
        "Notice how the points that mainly matter are the ones which are near the support vector. If new such points come in, the prediction can change."
      ]
    },
    {
      "cell_type": "markdown",
      "metadata": {
        "id": "j64Opjdlxh-B"
      },
      "source": [
        "## Training a SVM\n",
        "\n",
        "We just do two acids to start and illustrate. We'll try and see if an Olive oil is from Sardinia or not!"
      ]
    },
    {
      "cell_type": "code",
      "metadata": {
        "id": "tmsjPsTpxh-B"
      },
      "source": [
        "X = dfnosouth[['linoleic', 'arachidic']]\n",
        "X = dfnosouth[['linolenic', 'arachidic']]\n",
        "\n",
        "\n",
        "y = (dfnosouth.regionstring.values=='Sardinia')*1"
      ],
      "execution_count": null,
      "outputs": []
    },
    {
      "cell_type": "markdown",
      "metadata": {
        "id": "Xnr9LdMQxh-B"
      },
      "source": [
        "### Q1: Standardize the data set the correct way\n",
        "\n",
        "The correct way, unlike what we have done earlier is to standardize the training and test sets separately. Why is this?\n",
        "\n",
        "You are **not supposed to have seen the test set**. If you do, you are contaminating the training set and your results and error will have an optimistic bias on the training set.\n",
        "\n",
        "Indeed you will need to standardize the test set data to do your predictions by the mean and the standard deviation learned on the training set!\n",
        "\n",
        "Store the standardized data in `Xtrain, Xtest, ytrain, ytest`"
      ]
    },
    {
      "cell_type": "code",
      "metadata": {
        "jupyter": {
          "outputs_hidden": false
        },
        "id": "B3BmO_WOxh-B"
      },
      "source": [
        "# your code here\n"
      ],
      "execution_count": null,
      "outputs": []
    },
    {
      "cell_type": "code",
      "metadata": {
        "id": "_QWZKQBXxh-B"
      },
      "source": [
        "Xtrain.shape, Xtest.shape"
      ],
      "execution_count": null,
      "outputs": []
    },
    {
      "cell_type": "markdown",
      "metadata": {
        "id": "itFHVHejxh-C"
      },
      "source": [
        "Now fit the SVM with a \"linear\" kernel."
      ]
    },
    {
      "cell_type": "code",
      "metadata": {
        "jupyter": {
          "outputs_hidden": false
        },
        "id": "8IiqmDhJxh-C"
      },
      "source": [
        "# your code here\n"
      ],
      "execution_count": null,
      "outputs": []
    },
    {
      "cell_type": "code",
      "metadata": {
        "jupyter": {
          "outputs_hidden": false
        },
        "id": "JZa3FHXMxh-C"
      },
      "source": [
        "plt.figure(figsize=(12, 8))\n",
        "plt.scatter(Xtrain[:, 0], Xtrain[:, 1], c=ytrain, s=50, cmap='spring', alpha=0.3)\n",
        "plot_svc_decision_function(clf, plt.gca())\n",
        "plt.scatter(clf.support_vectors_[:, 0], clf.support_vectors_[:, 1],\n",
        "                s=100, edgecolors='k', facecolors='none')\n",
        "plt.scatter(Xtest[:, 0], Xtest[:, 1], c=ytest, s=50, marker=\"s\", cmap='spring', alpha=0.5);"
      ],
      "execution_count": null,
      "outputs": []
    },
    {
      "cell_type": "code",
      "metadata": {
        "id": "CEuJXB69xh-C"
      },
      "source": [
        "plt.figure(figsize=(12, 8))\n",
        "plt.scatter(Xtrain[:, 0], Xtrain[:, 1], c=ytrain, s=50, cmap='spring', alpha=0.3)\n",
        "plot_svc_decision_function(clf, plt.gca())\n",
        "plt.scatter(clf.support_vectors_[:, 0], clf.support_vectors_[:, 1],\n",
        "                s=100, edgecolors='k', facecolors='none')\n",
        "plt.scatter(Xtest[:, 0], Xtest[:, 1], c=clf.predict(Xtest), s=50, marker=\"s\", cmap='spring', alpha=0.5);"
      ],
      "execution_count": null,
      "outputs": []
    },
    {
      "cell_type": "markdown",
      "metadata": {
        "id": "K6Mo4ReJxh-C"
      },
      "source": [
        "What is our accuracy?"
      ]
    },
    {
      "cell_type": "code",
      "metadata": {
        "jupyter": {
          "outputs_hidden": false
        },
        "id": "c1YOP0Hmxh-D"
      },
      "source": [
        "# your code here\n"
      ],
      "execution_count": null,
      "outputs": []
    },
    {
      "cell_type": "markdown",
      "metadata": {
        "id": "s86CLObVxh-D"
      },
      "source": [
        "## The Kernel Trick\n",
        "\n",
        "Often in SVMs one uses the [kernel trick](http://en.wikipedia.org/wiki/Kernel_method), which maps a lower dimension to a higher one to make things separable.\n",
        "\n",
        "See (from above mentioned book)\n",
        "\n",
        "![](https://github.com/abarpan3/HackDay/blob/main/images/img1331.png?raw=1)\n",
        "\n",
        "So lets see what using a Radial Gaussian kernel look like?\n",
        "\n",
        "$$e^{-\\gamma d(x_1,x_2)^2}$$\n",
        "\n",
        "\n",
        "### Q2: Train a radial kernel\n",
        "\n",
        "Train a radial kernel by looking up the documentation. For simplicity we'll start by using the default hyperparameters"
      ]
    },
    {
      "cell_type": "code",
      "metadata": {
        "jupyter": {
          "outputs_hidden": false
        },
        "id": "AIvcyIvBxh-E"
      },
      "source": [
        "# your code here\n"
      ],
      "execution_count": null,
      "outputs": []
    },
    {
      "cell_type": "code",
      "metadata": {
        "jupyter": {
          "outputs_hidden": false
        },
        "id": "VH2-MdjJxh-E"
      },
      "source": [
        "plt.figure(figsize=(12, 8))\n",
        "plt.scatter(Xtrain[:, 0], Xtrain[:, 1], c=ytrain, s=50, cmap='spring', alpha=0.3)\n",
        "plot_svc_decision_function(clf, plt.gca())\n",
        "plt.scatter(clf.support_vectors_[:, 0], clf.support_vectors_[:, 1],\n",
        "                s=100, facecolors='none', edgecolors='k')\n",
        "plt.scatter(Xtest[:, 0], Xtest[:, 1], c=ytest, s=50, marker=\"s\", cmap='spring', alpha=0.5);"
      ],
      "execution_count": null,
      "outputs": []
    },
    {
      "cell_type": "markdown",
      "metadata": {
        "id": "oYuXh9uPxh-E"
      },
      "source": [
        " Compute the confusion matric and the accuracy score!"
      ]
    },
    {
      "cell_type": "code",
      "metadata": {
        "jupyter": {
          "outputs_hidden": false
        },
        "id": "3DcsJM_exh-E"
      },
      "source": [
        "# your code here\n"
      ],
      "execution_count": null,
      "outputs": []
    },
    {
      "cell_type": "code",
      "metadata": {
        "id": "Xp81Om3wxh-E"
      },
      "source": [
        "clf.score(Xtest, ytest)"
      ],
      "execution_count": null,
      "outputs": []
    },
    {
      "cell_type": "markdown",
      "metadata": {
        "id": "rGPK8F1fxh-F"
      },
      "source": [
        "### Q3: Use cross validation\n",
        "\n",
        "This is a take away for home. Use cross validation to estimate the hyper-parameters of this model. These are the regularization and the kernel radius.\n",
        "\n",
        "This page will help: https://scikit-learn.org/stable/auto_examples/svm/plot_rbf_parameters.html\n",
        "\n",
        "Discuss on discourse!"
      ]
    },
    {
      "cell_type": "markdown",
      "metadata": {
        "id": "2TiLYe8sxh-F"
      },
      "source": [
        "## Detective work\n",
        "\n",
        "See if you can separate out sicilian olive oils using either SVM or logistic regression or kNN.\n",
        "\n",
        "When you do this you might learn something about how the olive oil industry works...\n",
        "\n",
        "Discuss on discourse!"
      ]
    }
  ]
}